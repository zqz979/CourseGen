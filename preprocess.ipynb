{
 "cells": [
  {
   "cell_type": "code",
   "execution_count": 1,
   "metadata": {},
   "outputs": [
    {
     "name": "stdout",
     "output_type": "stream",
     "text": [
      "<class 'pandas.core.frame.DataFrame'>\n",
      "RangeIndex: 14178 entries, 0 to 14177\n",
      "Data columns (total 2 columns):\n",
      " #   Column       Non-Null Count  Dtype \n",
      "---  ------       --------------  ----- \n",
      " 0   title        14178 non-null  object\n",
      " 1   description  14177 non-null  object\n",
      "dtypes: object(2)\n",
      "memory usage: 221.7+ KB\n"
     ]
    }
   ],
   "source": [
    "import pandas as pd\n",
    "\n",
    "# Read the data\n",
    "courses = pd.read_csv('./data/courses.csv')\n",
    "\n",
    "courses.info()"
   ]
  },
  {
   "cell_type": "code",
   "execution_count": 2,
   "metadata": {},
   "outputs": [
    {
     "name": "stdout",
     "output_type": "stream",
     "text": [
      "<class 'pandas.core.frame.DataFrame'>\n",
      "Int64Index: 14177 entries, 0 to 14177\n",
      "Data columns (total 2 columns):\n",
      " #   Column       Non-Null Count  Dtype \n",
      "---  ------       --------------  ----- \n",
      " 0   title        14177 non-null  object\n",
      " 1   description  14177 non-null  object\n",
      "dtypes: object(2)\n",
      "memory usage: 332.3+ KB\n"
     ]
    }
   ],
   "source": [
    "# drop rows with missing values\n",
    "courses = courses.dropna()\n",
    "\n",
    "courses.info()"
   ]
  },
  {
   "cell_type": "code",
   "execution_count": 3,
   "metadata": {},
   "outputs": [
    {
     "name": "stdout",
     "output_type": "stream",
     "text": [
      "<class 'pandas.core.frame.DataFrame'>\n",
      "Int64Index: 13791 entries, 0 to 14177\n",
      "Data columns (total 2 columns):\n",
      " #   Column       Non-Null Count  Dtype \n",
      "---  ------       --------------  ----- \n",
      " 0   title        13791 non-null  object\n",
      " 1   description  13791 non-null  object\n",
      "dtypes: object(2)\n",
      "memory usage: 323.2+ KB\n"
     ]
    }
   ],
   "source": [
    "# drop rows where the description is just \"No description.\"\n",
    "courses = courses[courses.description != \"No description.\"]\n",
    "courses.info()\n"
   ]
  },
  {
   "cell_type": "code",
   "execution_count": 36,
   "metadata": {},
   "outputs": [
    {
     "data": {
      "text/plain": [
       "<AxesSubplot: >"
      ]
     },
     "execution_count": 36,
     "metadata": {},
     "output_type": "execute_result"
    },
    {
     "data": {
      "image/png": "[encoded data removed]",
      "text/plain": [
       "<Figure size 640x480 with 1 Axes>"
      ]
     },
     "metadata": {},
     "output_type": "display_data"
    }
   ],
   "source": [
    "# plot distributiuon of description length\n",
    "courses['description'].str.len().hist()\n"
   ]
  },
  {
   "cell_type": "code",
   "execution_count": 35,
   "metadata": {},
   "outputs": [
    {
     "data": {
      "text/plain": [
       "<AxesSubplot: >"
      ]
     },
     "execution_count": 35,
     "metadata": {},
     "output_type": "execute_result"
    },
    {
     "data": {
      "image/png": "[encoded data removed]",
      "text/plain": [
       "<Figure size 640x480 with 1 Axes>"
      ]
     },
     "metadata": {},
     "output_type": "display_data"
    }
   ],
   "source": [
    "courses['title'].str.len().hist()"
   ]
  },
  {
   "cell_type": "code",
   "execution_count": 4,
   "metadata": {},
   "outputs": [
    {
     "name": "stdout",
     "output_type": "stream",
     "text": [
      "<class 'pandas.core.frame.DataFrame'>\n",
      "Int64Index: 13791 entries, 10003 to 12945\n",
      "Data columns (total 2 columns):\n",
      " #   Column       Non-Null Count  Dtype \n",
      "---  ------       --------------  ----- \n",
      " 0   title        13791 non-null  object\n",
      " 1   description  13791 non-null  object\n",
      "dtypes: object(2)\n",
      "memory usage: 323.2+ KB\n"
     ]
    }
   ],
   "source": [
    "# sort dataframe by title\n",
    "courses = courses.sort_values(by=['title'])\n",
    "courses.info()\n"
   ]
  },
  {
   "cell_type": "code",
   "execution_count": 12,
   "metadata": {},
   "outputs": [],
   "source": [
    "# output dataframe to csv\n",
    "courses.to_csv('./data/courses_cleaned.csv', index=False)\n"
   ]
  },
  {
   "cell_type": "code",
   "execution_count": 29,
   "metadata": {},
   "outputs": [
    {
     "data": {
      "text/html": [
       "<div>\n",
       "<style scoped>\n",
       "    .dataframe tbody tr th:only-of-type {\n",
       "        vertical-align: middle;\n",
       "    }\n",
       "\n",
       "    .dataframe tbody tr th {\n",
       "        vertical-align: top;\n",
       "    }\n",
       "\n",
       "    .dataframe thead th {\n",
       "        text-align: right;\n",
       "    }\n",
       "</style>\n",
       "<table border=\"1\" class=\"dataframe\">\n",
       "  <thead>\n",
       "    <tr style=\"text-align: right;\">\n",
       "      <th></th>\n",
       "      <th>title</th>\n",
       "      <th>description</th>\n",
       "    </tr>\n",
       "  </thead>\n",
       "  <tbody>\n",
       "    <tr>\n",
       "      <th>0</th>\n",
       "      <td>A-I 801: Foundation of Artificial Intelligence</td>\n",
       "      <td>Artificial Intelligence (AI) is the discipline...</td>\n",
       "    </tr>\n",
       "    <tr>\n",
       "      <th>1</th>\n",
       "      <td>A-I 894: Capstone Experience</td>\n",
       "      <td>The capstone course in the MPS in Artificial I...</td>\n",
       "    </tr>\n",
       "    <tr>\n",
       "      <th>2</th>\n",
       "      <td>AA 100: Introduction to International Arts</td>\n",
       "      <td>The arts of the world can be simultaneously un...</td>\n",
       "    </tr>\n",
       "    <tr>\n",
       "      <th>3</th>\n",
       "      <td>AA 121: Design Thinking and Creativity</td>\n",
       "      <td>This course is an introductory, general educat...</td>\n",
       "    </tr>\n",
       "    <tr>\n",
       "      <th>4</th>\n",
       "      <td>AA 130N: Creative Arts Therapy Applications</td>\n",
       "      <td>Creative Arts Therapies are intermodal profess...</td>\n",
       "    </tr>\n",
       "    <tr>\n",
       "      <th>...</th>\n",
       "      <td>...</td>\n",
       "      <td>...</td>\n",
       "    </tr>\n",
       "    <tr>\n",
       "      <th>2753</th>\n",
       "      <td>WWNDS 473: Bassoon: Primary VIII</td>\n",
       "      <td>Individual instruction in bassoon one hour per...</td>\n",
       "    </tr>\n",
       "    <tr>\n",
       "      <th>2754</th>\n",
       "      <td>WWNDS 474: Saxophone: Primary VIII</td>\n",
       "      <td>Individual instruction in saxophone one hour p...</td>\n",
       "    </tr>\n",
       "    <tr>\n",
       "      <th>2755</th>\n",
       "      <td>WWNDS 481: Oboe: Performance VIII</td>\n",
       "      <td>Individual instruction in oboe one hour per we...</td>\n",
       "    </tr>\n",
       "    <tr>\n",
       "      <th>2756</th>\n",
       "      <td>WWNDS 484: Saxophone: Performance VIII</td>\n",
       "      <td>Individual instruction in saxophone one hour p...</td>\n",
       "    </tr>\n",
       "    <tr>\n",
       "      <th>2757</th>\n",
       "      <td>WWNDS 532: Clarinet: Performance</td>\n",
       "      <td>Individual instruction in clarinet one hour pe...</td>\n",
       "    </tr>\n",
       "  </tbody>\n",
       "</table>\n",
       "<p>2758 rows × 2 columns</p>\n",
       "</div>"
      ],
      "text/plain": [
       "                                               title  \\\n",
       "0     A-I 801: Foundation of Artificial Intelligence   \n",
       "1                       A-I 894: Capstone Experience   \n",
       "2         AA 100: Introduction to International Arts   \n",
       "3             AA 121: Design Thinking and Creativity   \n",
       "4        AA 130N: Creative Arts Therapy Applications   \n",
       "...                                              ...   \n",
       "2753                WWNDS 473: Bassoon: Primary VIII   \n",
       "2754              WWNDS 474: Saxophone: Primary VIII   \n",
       "2755               WWNDS 481: Oboe: Performance VIII   \n",
       "2756          WWNDS 484: Saxophone: Performance VIII   \n",
       "2757                WWNDS 532: Clarinet: Performance   \n",
       "\n",
       "                                            description  \n",
       "0     Artificial Intelligence (AI) is the discipline...  \n",
       "1     The capstone course in the MPS in Artificial I...  \n",
       "2     The arts of the world can be simultaneously un...  \n",
       "3     This course is an introductory, general educat...  \n",
       "4     Creative Arts Therapies are intermodal profess...  \n",
       "...                                                 ...  \n",
       "2753  Individual instruction in bassoon one hour per...  \n",
       "2754  Individual instruction in saxophone one hour p...  \n",
       "2755  Individual instruction in oboe one hour per we...  \n",
       "2756  Individual instruction in saxophone one hour p...  \n",
       "2757  Individual instruction in clarinet one hour pe...  \n",
       "\n",
       "[2758 rows x 2 columns]"
      ]
     },
     "execution_count": 29,
     "metadata": {},
     "output_type": "execute_result"
    }
   ],
   "source": [
    "\n",
    "\n",
    "# Extract the first word of each title\n",
    "first_word = courses['title'].str.split().str.get(0)\n",
    "\n",
    "# Generate a Boolean mask for the selected rows (80%)\n",
    "selected = first_word.sample(frac=0.8, random_state=42).index\n",
    "\n",
    "# Split the DataFrame into two parts based on the selected rows\n",
    "df_train = courses.loc[selected]\n",
    "df_train = df_train.sort_values('title')\n",
    "\n",
    "df_test = courses.drop(selected)\n"
   ]
  },
  {
   "cell_type": "code",
   "execution_count": 32,
   "metadata": {},
   "outputs": [],
   "source": [
    "# output train and test dataframes to csv\n",
    "df_train.to_csv('./data/train.csv', index=False)\n",
    "df_test.to_csv('./data/test.csv', index=False)\n",
    "    "
   ]
  }
 ],
 "metadata": {
  "kernelspec": {
   "display_name": "ML",
   "language": "python",
   "name": "python3"
  },
  "language_info": {
   "codemirror_mode": {
    "name": "ipython",
    "version": 3
   },
   "file_extension": ".py",
   "mimetype": "text/x-python",
   "name": "python",
   "nbconvert_exporter": "python",
   "pygments_lexer": "ipython3",
   "version": "3.10.9"
  },
  "orig_nbformat": 4
 },
 "nbformat": 4,
 "nbformat_minor": 2
}
